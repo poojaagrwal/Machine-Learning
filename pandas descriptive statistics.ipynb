{
 "cells": [
  {
   "cell_type": "code",
   "execution_count": 21,
   "metadata": {},
   "outputs": [
    {
     "name": "stdout",
     "output_type": "stream",
     "text": [
      "   Name  Age  Marks\n",
      "0     a   12   10.0\n",
      "1     b   34    9.2\n",
      "2     c   23    9.4\n",
      "3     d   45    9.6\n",
      "4     e   12    9.0\n",
      "5     f   23    2.0\n",
      "6     g   12    8.0\n",
      "7     h   13    7.0\n",
      "8     i   14    3.0\n",
      "9     j   15   10.0\n",
      "10    k   11    5.5\n"
     ]
    }
   ],
   "source": [
    "import pandas as pd\n",
    "import numpy as np\n",
    "\n",
    "data= {'Name':pd.Series(['a','b','c','d','e','f','g','h','i','j','k']),\n",
    "       'Age': pd.Series([12,34,23,45,12,23,12,13,14,15,11]),\n",
    "       'Marks':pd.Series([10,9.2,9.4,9.6,9,2,8,7,3,10.0, 5.5])\n",
    "      }\n",
    "index= [\"Stu{}\".format(str(i)) for i in range(1,12)]\n",
    "df = pd.DataFrame(data)\n",
    "print(df)\n"
   ]
  },
  {
   "cell_type": "code",
   "execution_count": 24,
   "metadata": {},
   "outputs": [
    {
     "name": "stdout",
     "output_type": "stream",
     "text": [
      "Name     11\n",
      "Age      11\n",
      "Marks    11\n",
      "dtype: int64\n",
      "Name     abcdefghijk\n",
      "Age              214\n",
      "Marks           82.7\n",
      "dtype: object\n",
      "Age      19.454545\n",
      "Marks     7.518182\n",
      "dtype: float64\n",
      "Age      14.0\n",
      "Marks     9.0\n",
      "dtype: float64\n",
      "   Name   Age  Marks\n",
      "0     a  12.0   10.0\n",
      "1     b   NaN    NaN\n",
      "2     c   NaN    NaN\n",
      "3     d   NaN    NaN\n",
      "4     e   NaN    NaN\n",
      "5     f   NaN    NaN\n",
      "6     g   NaN    NaN\n",
      "7     h   NaN    NaN\n",
      "8     i   NaN    NaN\n",
      "9     j   NaN    NaN\n",
      "10    k   NaN    NaN\n",
      "Age      11.039598\n",
      "Marks     2.840006\n",
      "dtype: float64\n",
      "Name      a\n",
      "Age      11\n",
      "Marks     2\n",
      "dtype: object\n",
      "Name      k\n",
      "Age      45\n",
      "Marks    10\n",
      "dtype: object\n",
      "Age      4.199970e+13\n",
      "Marks    1.380802e+09\n",
      "dtype: float64\n"
     ]
    }
   ],
   "source": [
    "print(df.count())\n",
    "print(df.sum())\n",
    "print(df.mean())\n",
    "print(df.median())\n",
    "print(df.mode())\n",
    "print(df.std())\n",
    "print(df.min())\n",
    "print(df.max())\n",
    "\n",
    "print(df.prod())"
   ]
  },
  {
   "cell_type": "code",
   "execution_count": 27,
   "metadata": {},
   "outputs": [
    {
     "name": "stdout",
     "output_type": "stream",
     "text": [
      "           Name  Age Marks\n",
      "0             a   12    10\n",
      "1            ab   46  19.2\n",
      "2           abc   69  28.6\n",
      "3          abcd  114  38.2\n",
      "4         abcde  126  47.2\n",
      "5        abcdef  149  49.2\n",
      "6       abcdefg  161  57.2\n",
      "7      abcdefgh  174  64.2\n",
      "8     abcdefghi  188  67.2\n",
      "9    abcdefghij  203  77.2\n",
      "10  abcdefghijk  214  82.7\n"
     ]
    },
    {
     "ename": "TypeError",
     "evalue": "can't multiply sequence by non-int of type 'str'",
     "output_type": "error",
     "traceback": [
      "\u001b[1;31m---------------------------------------------------------------------------\u001b[0m",
      "\u001b[1;31mTypeError\u001b[0m                                 Traceback (most recent call last)",
      "\u001b[1;32m<ipython-input-27-91f3b1711275>\u001b[0m in \u001b[0;36m<module>\u001b[1;34m()\u001b[0m\n\u001b[0;32m      1\u001b[0m \u001b[0mprint\u001b[0m\u001b[1;33m(\u001b[0m\u001b[0mdf\u001b[0m\u001b[1;33m.\u001b[0m\u001b[0mcumsum\u001b[0m\u001b[1;33m(\u001b[0m\u001b[1;33m)\u001b[0m\u001b[1;33m)\u001b[0m\u001b[1;33m\u001b[0m\u001b[0m\n\u001b[1;32m----> 2\u001b[1;33m \u001b[0mprint\u001b[0m\u001b[1;33m(\u001b[0m\u001b[0mdf\u001b[0m\u001b[1;33m.\u001b[0m\u001b[0mcumprod\u001b[0m\u001b[1;33m(\u001b[0m\u001b[1;33m)\u001b[0m\u001b[1;33m)\u001b[0m\u001b[1;33m\u001b[0m\u001b[0m\n\u001b[0m",
      "\u001b[1;32m~\\Anaconda3\\lib\\site-packages\\pandas\\core\\generic.py\u001b[0m in \u001b[0;36mcum_func\u001b[1;34m(self, axis, skipna, *args, **kwargs)\u001b[0m\n\u001b[0;32m   9635\u001b[0m             \u001b[0mmask\u001b[0m \u001b[1;33m=\u001b[0m \u001b[0misna\u001b[0m\u001b[1;33m(\u001b[0m\u001b[0mself\u001b[0m\u001b[1;33m)\u001b[0m\u001b[1;33m\u001b[0m\u001b[0m\n\u001b[0;32m   9636\u001b[0m             \u001b[0mnp\u001b[0m\u001b[1;33m.\u001b[0m\u001b[0mputmask\u001b[0m\u001b[1;33m(\u001b[0m\u001b[0my\u001b[0m\u001b[1;33m,\u001b[0m \u001b[0mmask\u001b[0m\u001b[1;33m,\u001b[0m \u001b[0mmask_a\u001b[0m\u001b[1;33m)\u001b[0m\u001b[1;33m\u001b[0m\u001b[0m\n\u001b[1;32m-> 9637\u001b[1;33m             \u001b[0mresult\u001b[0m \u001b[1;33m=\u001b[0m \u001b[0maccum_func\u001b[0m\u001b[1;33m(\u001b[0m\u001b[0my\u001b[0m\u001b[1;33m,\u001b[0m \u001b[0maxis\u001b[0m\u001b[1;33m)\u001b[0m\u001b[1;33m\u001b[0m\u001b[0m\n\u001b[0m\u001b[0;32m   9638\u001b[0m             \u001b[0mnp\u001b[0m\u001b[1;33m.\u001b[0m\u001b[0mputmask\u001b[0m\u001b[1;33m(\u001b[0m\u001b[0mresult\u001b[0m\u001b[1;33m,\u001b[0m \u001b[0mmask\u001b[0m\u001b[1;33m,\u001b[0m \u001b[0mmask_b\u001b[0m\u001b[1;33m)\u001b[0m\u001b[1;33m\u001b[0m\u001b[0m\n\u001b[0;32m   9639\u001b[0m         \u001b[1;32melse\u001b[0m\u001b[1;33m:\u001b[0m\u001b[1;33m\u001b[0m\u001b[0m\n",
      "\u001b[1;32m~\\Anaconda3\\lib\\site-packages\\pandas\\core\\generic.py\u001b[0m in \u001b[0;36m<lambda>\u001b[1;34m(y, axis)\u001b[0m\n\u001b[0;32m   8815\u001b[0m         cls.cumprod = _make_cum_function(\n\u001b[0;32m   8816\u001b[0m             \u001b[0mcls\u001b[0m\u001b[1;33m,\u001b[0m \u001b[1;34m'cumprod'\u001b[0m\u001b[1;33m,\u001b[0m \u001b[0mname\u001b[0m\u001b[1;33m,\u001b[0m \u001b[0mname2\u001b[0m\u001b[1;33m,\u001b[0m \u001b[0maxis_descr\u001b[0m\u001b[1;33m,\u001b[0m \u001b[1;34m\"product\"\u001b[0m\u001b[1;33m,\u001b[0m\u001b[1;33m\u001b[0m\u001b[0m\n\u001b[1;32m-> 8817\u001b[1;33m             \u001b[1;32mlambda\u001b[0m \u001b[0my\u001b[0m\u001b[1;33m,\u001b[0m \u001b[0maxis\u001b[0m\u001b[1;33m:\u001b[0m \u001b[0my\u001b[0m\u001b[1;33m.\u001b[0m\u001b[0mcumprod\u001b[0m\u001b[1;33m(\u001b[0m\u001b[0maxis\u001b[0m\u001b[1;33m)\u001b[0m\u001b[1;33m,\u001b[0m \u001b[1;34m\"prod\"\u001b[0m\u001b[1;33m,\u001b[0m \u001b[1;36m1.\u001b[0m\u001b[1;33m,\u001b[0m\u001b[1;33m\u001b[0m\u001b[0m\n\u001b[0m\u001b[0;32m   8818\u001b[0m             np.nan, _cumprod_examples)\n\u001b[0;32m   8819\u001b[0m         cls.cummax = _make_cum_function(\n",
      "\u001b[1;31mTypeError\u001b[0m: can't multiply sequence by non-int of type 'str'"
     ]
    }
   ],
   "source": [
    "print(df.cumsum())\n",
    "print(df.cumprod())\n"
   ]
  },
  {
   "cell_type": "code",
   "execution_count": 28,
   "metadata": {},
   "outputs": [
    {
     "name": "stdout",
     "output_type": "stream",
     "text": [
      "             Age      Marks\n",
      "count  11.000000  11.000000\n",
      "mean   19.454545   7.518182\n",
      "std    11.039598   2.840006\n",
      "min    11.000000   2.000000\n",
      "25%    12.000000   6.250000\n",
      "50%    14.000000   9.000000\n",
      "75%    23.000000   9.500000\n",
      "max    45.000000  10.000000\n"
     ]
    }
   ],
   "source": [
    "print(df.describe())"
   ]
  },
  {
   "cell_type": "code",
   "execution_count": 29,
   "metadata": {},
   "outputs": [
    {
     "name": "stdout",
     "output_type": "stream",
     "text": [
      "       Name        Age      Marks\n",
      "count    11  11.000000  11.000000\n",
      "unique   11        NaN        NaN\n",
      "top       g        NaN        NaN\n",
      "freq      1        NaN        NaN\n",
      "mean    NaN  19.454545   7.518182\n",
      "std     NaN  11.039598   2.840006\n",
      "min     NaN  11.000000   2.000000\n",
      "25%     NaN  12.000000   6.250000\n",
      "50%     NaN  14.000000   9.000000\n",
      "75%     NaN  23.000000   9.500000\n",
      "max     NaN  45.000000  10.000000\n"
     ]
    }
   ],
   "source": [
    "print(df.describe(include = 'all'))"
   ]
  },
  {
   "cell_type": "code",
   "execution_count": 39,
   "metadata": {},
   "outputs": [
    {
     "name": "stdout",
     "output_type": "stream",
     "text": [
      "[[ 1.8212702  -0.88252206  0.74492144]\n",
      " [ 0.00297158  0.06253071 -1.83566489]\n",
      " [ 0.70935547 -0.01185359  0.38305719]]\n",
      "          a         b         c\n",
      "0  3.821270  1.117478  2.744921\n",
      "1  2.002972  2.062531  0.164335\n",
      "2  2.709355  1.988146  2.383057\n"
     ]
    }
   ],
   "source": [
    "def adder(e1,e2):\n",
    "    return e1+e2\n",
    "\n",
    "data=np.random.randn(3,3)\n",
    "print(data)\n",
    "df = pd.DataFrame(data, columns= ['a','b','c'])\n",
    "print(df.pipe(adder,2))"
   ]
  },
  {
   "cell_type": "code",
   "execution_count": 40,
   "metadata": {},
   "outputs": [
    {
     "name": "stdout",
     "output_type": "stream",
     "text": [
      "0    0.561223\n",
      "1   -0.590054\n",
      "2    0.360186\n",
      "dtype: float64\n"
     ]
    }
   ],
   "source": [
    "print(df.apply(np.mean, axis=1))"
   ]
  },
  {
   "cell_type": "code",
   "execution_count": 37,
   "metadata": {},
   "outputs": [
    {
     "name": "stdout",
     "output_type": "stream",
     "text": [
      "0   -0.646032\n",
      "1    0.469411\n",
      "2   -0.318367\n",
      "dtype: float64\n"
     ]
    }
   ],
   "source": [
    "print(df.pipe(np.mean))"
   ]
  },
  {
   "cell_type": "code",
   "execution_count": 38,
   "metadata": {},
   "outputs": [
    {
     "name": "stdout",
     "output_type": "stream",
     "text": [
      "0    2.373672\n",
      "1    2.167949\n",
      "2    1.151669\n",
      "dtype: float64\n"
     ]
    }
   ],
   "source": [
    "print(df.apply(lambda x : x.max() - x.min()))"
   ]
  },
  {
   "cell_type": "code",
   "execution_count": 45,
   "metadata": {},
   "outputs": [
    {
     "name": "stdout",
     "output_type": "stream",
     "text": [
      "          a         b         c\n",
      "0  1.821270 -0.882522  0.744921\n",
      "1  0.002972  0.062531 -1.835665\n",
      "2  0.709355 -0.011854  0.383057\n",
      "0    182.127020\n",
      "1      0.297158\n",
      "2     70.935547\n",
      "Name: a, dtype: float64\n",
      "            a          b           c\n",
      "0  182.127020 -88.252206   74.492144\n",
      "1    0.297158   6.253071 -183.566489\n",
      "2   70.935547  -1.185359   38.305719\n"
     ]
    }
   ],
   "source": [
    "print(df)\n",
    "print(df['a'].map(lambda x : x*100))\n",
    "print(df.applymap(lambda x : x*100))"
   ]
  },
  {
   "cell_type": "code",
   "execution_count": null,
   "metadata": {},
   "outputs": [],
   "source": []
  }
 ],
 "metadata": {
  "kernelspec": {
   "display_name": "Python 3",
   "language": "python",
   "name": "python3"
  },
  "language_info": {
   "codemirror_mode": {
    "name": "ipython",
    "version": 3
   },
   "file_extension": ".py",
   "mimetype": "text/x-python",
   "name": "python",
   "nbconvert_exporter": "python",
   "pygments_lexer": "ipython3",
   "version": "3.6.5"
  }
 },
 "nbformat": 4,
 "nbformat_minor": 2
}
