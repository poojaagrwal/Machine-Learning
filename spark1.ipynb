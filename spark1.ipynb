{
 "cells": [
  {
   "cell_type": "code",
   "execution_count": 1,
   "metadata": {},
   "outputs": [],
   "source": [
    "import findspark\n",
    "findspark.init()"
   ]
  },
  {
   "cell_type": "code",
   "execution_count": 2,
   "metadata": {},
   "outputs": [],
   "source": [
    "import pyspark"
   ]
  },
  {
   "cell_type": "code",
   "execution_count": null,
   "metadata": {},
   "outputs": [],
   "source": [
    "from pyspark.sql import SparkSession\n",
    "spark = SparkSession.builder.getOrCreate()"
   ]
  },
  {
   "cell_type": "code",
   "execution_count": null,
   "metadata": {},
   "outputs": [],
   "source": [
    "df = spark.sql('''select 'spark' as hello ''')\n",
    "df.show()"
   ]
  },
  {
   "cell_type": "code",
   "execution_count": 3,
   "metadata": {},
   "outputs": [],
   "source": [
    "from pyspark import SparkConf, SparkContext"
   ]
  },
  {
   "cell_type": "code",
   "execution_count": 4,
   "metadata": {},
   "outputs": [],
   "source": [
    "conf= SparkConf().setMaster(\"local\").setAppName(\"PythonWordCount\")\n",
    "sc = SparkContext(conf =conf)"
   ]
  },
  {
   "cell_type": "code",
   "execution_count": 14,
   "metadata": {},
   "outputs": [],
   "source": [
    "filepath = 'C:\\\\Users\\\\akhil\\\\Desktop\\\\eclipsebundles.txt'\n",
    "text_file = sc.textFile(filepath)\n",
    "words =text_file.flatMap(lambda line: line.split(\" \")).map(lambda word: (word, 1)).reduceByKey(lambda a,b: a+b )"
   ]
  },
  {
   "cell_type": "code",
   "execution_count": 15,
   "metadata": {},
   "outputs": [
    {
     "data": {
      "text/plain": [
       "[('osgi.bundles=reference\\\\:file\\\\:org.eclipse.equinox.simpleconfigurator_1.3.100.v20180827-1122.jar@1\\\\:start,reference\\\\:file\\\\:org.eclipse.equinox.simpleconfigurator_1.3.100.v20180827-1122.jar@1\\\\:run',\n",
       "  1),\n",
       " ('', 61),\n",
       " ('const', 2),\n",
       " ('responseRole', 1),\n",
       " ('=await', 1),\n",
       " (\"fetch('/api/role',\", 1),\n",
       " ('{', 2),\n",
       " ('headers:', 1),\n",
       " (\"'X-XSRF-TOKEN':\", 1),\n",
       " ('this.state.csrfToken,', 1),\n",
       " (\"'Accept':\", 1),\n",
       " (\"'application/json',\", 1),\n",
       " (\"'Content-Type':\", 1),\n",
       " (\"'application/json'\", 1),\n",
       " ('},', 1),\n",
       " ('credentials:', 1),\n",
       " (\"'include'\", 1),\n",
       " ('});', 1),\n",
       " ('body', 1),\n",
       " ('=', 1),\n",
       " ('responseRole.text();', 1),\n",
       " ('this.setState({role:', 1),\n",
       " ('JSON.parse(body)});', 1)]"
      ]
     },
     "execution_count": 15,
     "metadata": {},
     "output_type": "execute_result"
    }
   ],
   "source": [
    "words.collect()"
   ]
  },
  {
   "cell_type": "code",
   "execution_count": null,
   "metadata": {},
   "outputs": [],
   "source": []
  }
 ],
 "metadata": {
  "kernelspec": {
   "display_name": "Python 3",
   "language": "python",
   "name": "python3"
  },
  "language_info": {
   "codemirror_mode": {
    "name": "ipython",
    "version": 3
   },
   "file_extension": ".py",
   "mimetype": "text/x-python",
   "name": "python",
   "nbconvert_exporter": "python",
   "pygments_lexer": "ipython3",
   "version": "3.6.5"
  }
 },
 "nbformat": 4,
 "nbformat_minor": 2
}
