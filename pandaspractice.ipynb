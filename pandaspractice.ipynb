{
 "cells": [
  {
   "cell_type": "code",
   "execution_count": 3,
   "metadata": {},
   "outputs": [
    {
     "name": "stdout",
     "output_type": "stream",
     "text": [
      "Empty DataFrame\n",
      "Columns: []\n",
      "Index: []\n"
     ]
    }
   ],
   "source": [
    "import pandas as pd\n",
    "\n",
    "df = pd.DataFrame()\n",
    "print(df)"
   ]
  },
  {
   "cell_type": "code",
   "execution_count": 13,
   "metadata": {},
   "outputs": [
    {
     "name": "stdout",
     "output_type": "stream",
     "text": [
      "[[0.13019017 0.88260887 0.94207384]\n",
      " [0.00198647 0.08783702 0.91872511]]\n"
     ]
    }
   ],
   "source": [
    "import numpy as np\n",
    "data=np.random.rand(2,3)\n",
    "print(data)"
   ]
  },
  {
   "cell_type": "code",
   "execution_count": 16,
   "metadata": {},
   "outputs": [
    {
     "name": "stdout",
     "output_type": "stream",
     "text": [
      "          a         b         c\n",
      "0  0.130190  0.882609  0.942074\n",
      "1  0.001986  0.087837  0.918725\n"
     ]
    }
   ],
   "source": [
    "df=pd.DataFrame(data,columns=['a','b','c'] )\n",
    "print(df)"
   ]
  },
  {
   "cell_type": "code",
   "execution_count": 25,
   "metadata": {},
   "outputs": [
    {
     "name": "stdout",
     "output_type": "stream",
     "text": [
      "[[6.23042070e-307 4.67296746e-307]\n",
      " [1.69121096e-306 1.06810811e-306]\n",
      " [1.89146896e-307 1.37961302e-306]\n",
      " [1.05699242e-307 8.01097889e-307]\n",
      " [8.45603441e-307 1.78021527e-306]]\n"
     ]
    }
   ],
   "source": [
    "nd =(np.ndarray(shape=(5,2)))\n",
    "df=pd.DataFrame(nd,columns=['a','b'] )\n",
    "print(df)"
   ]
  },
  {
   "cell_type": "code",
   "execution_count": 40,
   "metadata": {},
   "outputs": [
    {
     "name": "stdout",
     "output_type": "stream",
     "text": [
      "[[[0.83439339 0.57045051 0.63531767]\n",
      "  [0.17623619 0.55600687 0.69834958]]\n",
      "\n",
      " [[0.03998112 0.48560896 0.91357404]\n",
      "  [0.51557864 0.58635682 0.55149261]]]\n",
      "                    a         b\n",
      "major minor                    \n",
      "0     0      0.834393  0.039981\n",
      "      1      0.570451  0.485609\n",
      "      2      0.635318  0.913574\n",
      "1     0      0.176236  0.515579\n",
      "      1      0.556007  0.586357\n",
      "      2      0.698350  0.551493\n"
     ]
    },
    {
     "name": "stderr",
     "output_type": "stream",
     "text": [
      "C:\\Users\\akhil\\Anaconda3\\lib\\site-packages\\IPython\\core\\interactiveshell.py:2963: FutureWarning: \n",
      "Panel is deprecated and will be removed in a future version.\n",
      "The recommended way to represent these types of 3-dimensional data are with a MultiIndex on a DataFrame, via the Panel.to_frame() method\n",
      "Alternatively, you can use the xarray package http://xarray.pydata.org/en/stable/.\n",
      "Pandas provides a `.to_xarray()` method to help automate this conversion.\n",
      "\n",
      "  exec(code_obj, self.user_global_ns, self.user_ns)\n"
     ]
    }
   ],
   "source": [
    "\n",
    "nd= np.ndarray(shape=(2,2,3))\n",
    "print(nd)\n",
    "\n",
    "print(pd.Panel(nd,items=['a','b']).to_frame())\n"
   ]
  },
  {
   "cell_type": "code",
   "execution_count": 44,
   "metadata": {},
   "outputs": [
    {
     "name": "stdout",
     "output_type": "stream",
     "text": [
      "             item1  item2\n",
      "major minor              \n",
      "0     0          5      1\n",
      "      1          6      2\n",
      "      2          7      3\n",
      "      3          7      3\n",
      "1     0          0      0\n",
      "      1          1      1\n",
      "      2          2      2\n",
      "      3          3      3\n",
      "   0  1  2  3\n",
      "0  5  6  7  7\n",
      "1  0  1  2  3\n"
     ]
    },
    {
     "name": "stderr",
     "output_type": "stream",
     "text": [
      "C:\\Users\\akhil\\Anaconda3\\lib\\site-packages\\IPython\\core\\interactiveshell.py:2963: FutureWarning: \n",
      "Panel is deprecated and will be removed in a future version.\n",
      "The recommended way to represent these types of 3-dimensional data are with a MultiIndex on a DataFrame, via the Panel.to_frame() method\n",
      "Alternatively, you can use the xarray package http://xarray.pydata.org/en/stable/.\n",
      "Pandas provides a `.to_xarray()` method to help automate this conversion.\n",
      "\n",
      "  exec(code_obj, self.user_global_ns, self.user_ns)\n"
     ]
    }
   ],
   "source": [
    "data= {'item1':pd.DataFrame([[5,6,7,7],[0,1,2,3]]),\n",
    "    \n",
    "'item2': pd.DataFrame([[1,2,3,3],[0,1,2,3]])}\n",
    "print(pd.Panel(data).to_frame())\n",
    "print(pd.Panel(data)['item1'])"
   ]
  },
  {
   "cell_type": "code",
   "execution_count": 46,
   "metadata": {},
   "outputs": [
    {
     "name": "stdout",
     "output_type": "stream",
     "text": [
      "   item1  item2\n",
      "0      5      1\n",
      "1      6      2\n",
      "2      7      3\n",
      "3      7      3\n"
     ]
    },
    {
     "name": "stderr",
     "output_type": "stream",
     "text": [
      "C:\\Users\\akhil\\Anaconda3\\lib\\site-packages\\IPython\\core\\interactiveshell.py:2963: FutureWarning: \n",
      "Panel is deprecated and will be removed in a future version.\n",
      "The recommended way to represent these types of 3-dimensional data are with a MultiIndex on a DataFrame, via the Panel.to_frame() method\n",
      "Alternatively, you can use the xarray package http://xarray.pydata.org/en/stable/.\n",
      "Pandas provides a `.to_xarray()` method to help automate this conversion.\n",
      "\n",
      "  exec(code_obj, self.user_global_ns, self.user_ns)\n"
     ]
    }
   ],
   "source": [
    "print(pd.Panel(data).major_xs(0))"
   ]
  },
  {
   "cell_type": "code",
   "execution_count": 48,
   "metadata": {},
   "outputs": [
    {
     "name": "stdout",
     "output_type": "stream",
     "text": [
      "   item1  item2\n",
      "0      5      1\n",
      "1      0      0\n"
     ]
    },
    {
     "name": "stderr",
     "output_type": "stream",
     "text": [
      "C:\\Users\\akhil\\Anaconda3\\lib\\site-packages\\IPython\\core\\interactiveshell.py:2963: FutureWarning: \n",
      "Panel is deprecated and will be removed in a future version.\n",
      "The recommended way to represent these types of 3-dimensional data are with a MultiIndex on a DataFrame, via the Panel.to_frame() method\n",
      "Alternatively, you can use the xarray package http://xarray.pydata.org/en/stable/.\n",
      "Pandas provides a `.to_xarray()` method to help automate this conversion.\n",
      "\n",
      "  exec(code_obj, self.user_global_ns, self.user_ns)\n"
     ]
    }
   ],
   "source": [
    "print(pd.Panel(data).minor_xs(0))"
   ]
  },
  {
   "cell_type": "code",
   "execution_count": 50,
   "metadata": {},
   "outputs": [
    {
     "name": "stdout",
     "output_type": "stream",
     "text": [
      "0    2\n",
      "1    7\n",
      "2    0\n",
      "3    4\n",
      "dtype: int64\n",
      "4\n",
      "0    2\n",
      "1    7\n",
      "dtype: int64\n",
      "2    0\n",
      "3    4\n",
      "dtype: int64\n"
     ]
    }
   ],
   "source": [
    "s=pd.Series([2,7,0,4])\n",
    "print(s)\n",
    "print(s.size)\n",
    "print(s.head(2))\n",
    "print(s.tail(2))"
   ]
  },
  {
   "cell_type": "code",
   "execution_count": 54,
   "metadata": {},
   "outputs": [
    {
     "name": "stdout",
     "output_type": "stream",
     "text": [
      "               a              b\n",
      "0  6.230421e-307  4.672967e-307\n",
      "1  1.691211e-306  1.068108e-306\n",
      "2  1.891469e-307  1.379613e-306\n",
      "3  1.056992e-307  8.010979e-307\n",
      "4  8.456034e-307  1.780215e-306\n",
      "               0              1              2              3              4\n",
      "a  6.230421e-307  1.691211e-306  1.891469e-307  1.056992e-307  8.456034e-307\n",
      "b  4.672967e-307  1.068108e-306  1.379613e-306  8.010979e-307  1.780215e-306\n",
      "               a              b\n",
      "0  6.230421e-307  4.672967e-307\n",
      "1  1.691211e-306  1.068108e-306\n",
      "2  1.891469e-307  1.379613e-306\n",
      "3  1.056992e-307  8.010979e-307\n",
      "4  8.456034e-307  1.780215e-306\n",
      "[RangeIndex(start=0, stop=5, step=1), Index(['a', 'b'], dtype='object')]\n",
      "2\n",
      "10\n",
      "[[6.23042070e-307 4.67296746e-307]\n",
      " [1.69121096e-306 1.06810811e-306]\n",
      " [1.89146896e-307 1.37961302e-306]\n",
      " [1.05699242e-307 8.01097889e-307]\n",
      " [8.45603441e-307 1.78021527e-306]]\n",
      "               a              b\n",
      "0  6.230421e-307  4.672967e-307\n"
     ]
    }
   ],
   "source": [
    "print(df)\n",
    "print(df.T)\n",
    "print(df)\n",
    "print(df.axes)\n",
    "print(df.ndim)\n",
    "print(df.size)\n",
    "print(df.values)\n",
    "print(df.head(1))"
   ]
  },
  {
   "cell_type": "code",
   "execution_count": null,
   "metadata": {},
   "outputs": [],
   "source": []
  }
 ],
 "metadata": {
  "kernelspec": {
   "display_name": "Python 3",
   "language": "python",
   "name": "python3"
  },
  "language_info": {
   "codemirror_mode": {
    "name": "ipython",
    "version": 3
   },
   "file_extension": ".py",
   "mimetype": "text/x-python",
   "name": "python",
   "nbconvert_exporter": "python",
   "pygments_lexer": "ipython3",
   "version": "3.6.5"
  }
 },
 "nbformat": 4,
 "nbformat_minor": 2
}
